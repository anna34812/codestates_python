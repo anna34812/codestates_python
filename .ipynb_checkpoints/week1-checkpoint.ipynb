{
 "cells": [
  {
   "cell_type": "code",
   "execution_count": 1,
   "id": "e94147f8",
   "metadata": {},
   "outputs": [],
   "source": [
    "my_team=['김단풍', '이버들', '박바오밥']"
   ]
  },
  {
   "cell_type": "code",
   "execution_count": 2,
   "id": "e66e3b7b",
   "metadata": {},
   "outputs": [
    {
     "name": "stdout",
     "output_type": "stream",
     "text": [
      "['김단풍', '이버들', '박바오밥']\n"
     ]
    }
   ],
   "source": [
    "print(my_team)"
   ]
  },
  {
   "cell_type": "code",
   "execution_count": 3,
   "id": "93c66f97",
   "metadata": {},
   "outputs": [],
   "source": [
    "name=('박','바오밥')"
   ]
  },
  {
   "cell_type": "code",
   "execution_count": 4,
   "id": "0a45600d",
   "metadata": {},
   "outputs": [
    {
     "name": "stdout",
     "output_type": "stream",
     "text": [
      "박바오밥 사원의 성은 박이고, 이름은 바오밥 임이 확실해.\n"
     ]
    }
   ],
   "source": [
    "print('박바오밥 사원의 성은 ' + name[0] + '이고, 이름은 ' + name[1] + ' 임이 확실해.')"
   ]
  },
  {
   "cell_type": "code",
   "execution_count": 5,
   "id": "2b3e0447",
   "metadata": {},
   "outputs": [],
   "source": [
    "my_team2=[('김','단풍'), ('이','버들'), ('박','바오밥')]"
   ]
  },
  {
   "cell_type": "code",
   "execution_count": 6,
   "id": "cbea24d0",
   "metadata": {},
   "outputs": [
    {
     "name": "stdout",
     "output_type": "stream",
     "text": [
      "[('김', '단풍'), ('이', '버들'), ('박', '바오밥')]\n"
     ]
    }
   ],
   "source": [
    "print(my_team2)"
   ]
  },
  {
   "cell_type": "code",
   "execution_count": 7,
   "id": "08853e08",
   "metadata": {},
   "outputs": [],
   "source": [
    "name2={'이름':'Blossom', '성':'May'}"
   ]
  },
  {
   "cell_type": "code",
   "execution_count": 8,
   "id": "26e43ea8",
   "metadata": {},
   "outputs": [
    {
     "name": "stdout",
     "output_type": "stream",
     "text": [
      "{'이름': 'Blossom', '성': 'May'}\n"
     ]
    }
   ],
   "source": [
    "print(name2)"
   ]
  },
  {
   "cell_type": "code",
   "execution_count": 9,
   "id": "5b676811",
   "metadata": {},
   "outputs": [],
   "source": [
    "my_team2=[\n",
    "    {'성':'김', '이름':'단풍'},\n",
    "    {'성':'이', '이름':'버들'},\n",
    "    {'성':'박', '이름':'바오밥'},\n",
    "    {'성':'May', '이름':'Blossom'}\n",
    "]"
   ]
  },
  {
   "cell_type": "code",
   "execution_count": 10,
   "id": "98bda0da",
   "metadata": {},
   "outputs": [
    {
     "name": "stdout",
     "output_type": "stream",
     "text": [
      "[{'성': '김', '이름': '단풍'}, {'성': '이', '이름': '버들'}, {'성': '박', '이름': '바오밥'}, {'성': 'May', '이름': 'Blossom'}]\n"
     ]
    }
   ],
   "source": [
    "print(my_team2)"
   ]
  },
  {
   "cell_type": "code",
   "execution_count": null,
   "id": "14f49ab4",
   "metadata": {},
   "outputs": [],
   "source": []
  }
 ],
 "metadata": {
  "kernelspec": {
   "display_name": "py3.8",
   "language": "python",
   "name": "py3.8"
  },
  "language_info": {
   "codemirror_mode": {
    "name": "ipython",
    "version": 3
   },
   "file_extension": ".py",
   "mimetype": "text/x-python",
   "name": "python",
   "nbconvert_exporter": "python",
   "pygments_lexer": "ipython3",
   "version": "3.8.15"
  }
 },
 "nbformat": 4,
 "nbformat_minor": 5
}
