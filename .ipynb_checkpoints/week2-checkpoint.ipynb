{
 "cells": [
  {
   "cell_type": "code",
   "execution_count": 8,
   "id": "48d4ea8c",
   "metadata": {},
   "outputs": [],
   "source": [
    "members = [\n",
    "    {\n",
    "        '성': '김',\n",
    "        '이름': '이팝',\n",
    "        '소속': '나무팀',\n",
    "        '국적': '대한민국',\n",
    "        '나이': 40,\n",
    "    },\n",
    "    {\n",
    "        '성': '김',\n",
    "        '이름': '단풍',\n",
    "        '소속': '나무팀',\n",
    "        '국적': '대한민국',\n",
    "        '나이': 29,\n",
    "    },\n",
    "    {\n",
    "        '성': '이',\n",
    "        '이름': '버들',\n",
    "        '소속': '나무팀',\n",
    "        '국적': '대한민국',\n",
    "        '나이': 34,\n",
    "    },\n",
    "    {\n",
    "        '성': '박',\n",
    "        '이름': '바오밥',\n",
    "        '소속': '나무팀',\n",
    "        '국적': '대한민국',\n",
    "        '나이': 27,\n",
    "    },\n",
    "    {\n",
    "        '성': 'May',\n",
    "        '이름': 'Blossom',\n",
    "        '소속': '나무팀',\n",
    "        '국적': '미국',\n",
    "        '나이': 28,\n",
    "    },\n",
    "    {\n",
    "        '성': '김',\n",
    "        '이름': '샤프란',\n",
    "        '소속': '꽃팀',\n",
    "        '국적': '대한민국',\n",
    "        '나이': 42,\n",
    "    },\n",
    "    {\n",
    "        '성': '김',\n",
    "        '이름': '튤립',\n",
    "        '소속': '꽃팀',\n",
    "        '국적': '대한민국',\n",
    "        '나이': 37,\n",
    "    },\n",
    "    {\n",
    "        '성': '박',\n",
    "        '이름': '수선화',\n",
    "        '소속': '꽃팀',\n",
    "        '국적': '대한민국',\n",
    "        '나이': 33,\n",
    "    },\n",
    "    {\n",
    "        '성': '박',\n",
    "        '이름': '앵초',\n",
    "        '소속': '꽃팀',\n",
    "        '국적': '대한민국',\n",
    "        '나이': 28,\n",
    "    },\n",
    "    {\n",
    "        '성': 'Sharon',\n",
    "        '이름': 'Rose',\n",
    "        '소속': '꽃팀',\n",
    "        '국적': '미국',\n",
    "        '나이': 23,\n",
    "    },\n",
    "]"
   ]
  },
  {
   "cell_type": "code",
   "execution_count": 18,
   "id": "edbff8fc",
   "metadata": {},
   "outputs": [
    {
     "name": "stdout",
     "output_type": "stream",
     "text": [
      "May Blossom 사원은 김튤립 사원보다 나이가 적습니다.\n"
     ]
    }
   ],
   "source": [
    "if members[4]['나이'] > members[6]['나이']: \n",
    "    print(members[4]['성'] + ' ' + members[4]['이름'] + ' 사원은 ' + members[6]['성'] + members[6]['이름'] + ' 사원보다 나이가 많습니다.')\n",
    "elif members[4]['나이'] < members[6]['나이']:\n",
    "    print(members[4]['성'] + ' ' + members[4]['이름'] + ' 사원은 ' + members[6]['성'] + members[6]['이름'] + ' 사원보다 나이가 적습니다.')\n",
    "else: \n",
    "    print(members[4]['성'] + ' ' + members[4]['이름'] + ' 사원은 ' + members[6]['성'] + members[6]['이름'] + ' 사원과 나이가 같습니다.')"
   ]
  },
  {
   "cell_type": "code",
   "execution_count": 31,
   "id": "d9085d8b",
   "metadata": {},
   "outputs": [],
   "source": [
    "standard_member=members[4]"
   ]
  },
  {
   "cell_type": "code",
   "execution_count": 32,
   "id": "b183ad92",
   "metadata": {},
   "outputs": [],
   "source": [
    "member_to_compare=members[8]"
   ]
  },
  {
   "cell_type": "code",
   "execution_count": 33,
   "id": "57cdf7fd",
   "metadata": {},
   "outputs": [
    {
     "name": "stdout",
     "output_type": "stream",
     "text": [
      "Blossom사원은 앵초과 나이가 같습니다.\n"
     ]
    }
   ],
   "source": [
    "if standard_member['나이'] > member_to_compare['나이']:\n",
    "    print(standard_member['이름']+'사원은 '+member_to_compare['이름']+'보다 나이가 많습니다.')\n",
    "elif standard_member['나이'] < member_to_compare['나이']:\n",
    "    print(standard_member['이름']+'사원은 '+member_to_compare['이름']+'보다 나이가 적습니다.')\n",
    "else:\n",
    "    print(standard_member['이름']+'사원은 '+member_to_compare['이름']+'과 나이가 같습니다.')"
   ]
  },
  {
   "cell_type": "code",
   "execution_count": null,
   "id": "57742bb5",
   "metadata": {},
   "outputs": [],
   "source": []
  }
 ],
 "metadata": {
  "kernelspec": {
   "display_name": "py3.8",
   "language": "python",
   "name": "py3.8"
  },
  "language_info": {
   "codemirror_mode": {
    "name": "ipython",
    "version": 3
   },
   "file_extension": ".py",
   "mimetype": "text/x-python",
   "name": "python",
   "nbconvert_exporter": "python",
   "pygments_lexer": "ipython3",
   "version": "3.8.15"
  }
 },
 "nbformat": 4,
 "nbformat_minor": 5
}
