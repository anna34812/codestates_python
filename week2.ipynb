{
 "cells": [
  {
   "cell_type": "code",
   "execution_count": 8,
   "id": "8b75bfe4",
   "metadata": {},
   "outputs": [],
   "source": [
    "members = [\n",
    "    {\n",
    "        '성': '김',\n",
    "        '이름': '이팝',\n",
    "        '소속': '나무팀',\n",
    "        '국적': '대한민국',\n",
    "        '나이': 40,\n",
    "    },\n",
    "    {\n",
    "        '성': '김',\n",
    "        '이름': '단풍',\n",
    "        '소속': '나무팀',\n",
    "        '국적': '대한민국',\n",
    "        '나이': 29,\n",
    "    },\n",
    "    {\n",
    "        '성': '이',\n",
    "        '이름': '버들',\n",
    "        '소속': '나무팀',\n",
    "        '국적': '대한민국',\n",
    "        '나이': 34,\n",
    "    },\n",
    "    {\n",
    "        '성': '박',\n",
    "        '이름': '바오밥',\n",
    "        '소속': '나무팀',\n",
    "        '국적': '대한민국',\n",
    "        '나이': 27,\n",
    "    },\n",
    "    {\n",
    "        '성': 'May',\n",
    "        '이름': 'Blossom',\n",
    "        '소속': '나무팀',\n",
    "        '국적': '미국',\n",
    "        '나이': 28,\n",
    "    },\n",
    "    {\n",
    "        '성': '김',\n",
    "        '이름': '샤프란',\n",
    "        '소속': '꽃팀',\n",
    "        '국적': '대한민국',\n",
    "        '나이': 42,\n",
    "    },\n",
    "    {\n",
    "        '성': '김',\n",
    "        '이름': '튤립',\n",
    "        '소속': '꽃팀',\n",
    "        '국적': '대한민국',\n",
    "        '나이': 37,\n",
    "    },\n",
    "    {\n",
    "        '성': '박',\n",
    "        '이름': '수선화',\n",
    "        '소속': '꽃팀',\n",
    "        '국적': '대한민국',\n",
    "        '나이': 33,\n",
    "    },\n",
    "    {\n",
    "        '성': '박',\n",
    "        '이름': '앵초',\n",
    "        '소속': '꽃팀',\n",
    "        '국적': '대한민국',\n",
    "        '나이': 28,\n",
    "    },\n",
    "    {\n",
    "        '성': 'Sharon',\n",
    "        '이름': 'Rose',\n",
    "        '소속': '꽃팀',\n",
    "        '국적': '미국',\n",
    "        '나이': 23,\n",
    "    },\n",
    "]"
   ]
  },
  {
   "cell_type": "code",
   "execution_count": 18,
   "id": "ea6012ca",
   "metadata": {},
   "outputs": [
    {
     "name": "stdout",
     "output_type": "stream",
     "text": [
      "May Blossom 사원은 김튤립 사원보다 나이가 적습니다.\n"
     ]
    }
   ],
   "source": [
    "if members[4]['나이'] > members[6]['나이']: \n",
    "    print(members[4]['성'] + ' ' + members[4]['이름'] + ' 사원은 ' + members[6]['성'] + members[6]['이름'] + ' 사원보다 나이가 많습니다.')\n",
    "elif members[4]['나이'] < members[6]['나이']:\n",
    "    print(members[4]['성'] + ' ' + members[4]['이름'] + ' 사원은 ' + members[6]['성'] + members[6]['이름'] + ' 사원보다 나이가 적습니다.')\n",
    "else: \n",
    "    print(members[4]['성'] + ' ' + members[4]['이름'] + ' 사원은 ' + members[6]['성'] + members[6]['이름'] + ' 사원과 나이가 같습니다.')"
   ]
  },
  {
   "cell_type": "code",
   "execution_count": 31,
   "id": "6594f630",
   "metadata": {},
   "outputs": [],
   "source": [
    "standard_member=members[4]"
   ]
  },
  {
   "cell_type": "code",
   "execution_count": 32,
   "id": "7c1d6dad",
   "metadata": {},
   "outputs": [],
   "source": [
    "member_to_compare=members[8]"
   ]
  },
  {
   "cell_type": "code",
   "execution_count": 33,
   "id": "80c3ff03",
   "metadata": {},
   "outputs": [
    {
     "name": "stdout",
     "output_type": "stream",
     "text": [
      "Blossom사원은 앵초과 나이가 같습니다.\n"
     ]
    }
   ],
   "source": [
    "if standard_member['나이'] > member_to_compare['나이']:\n",
    "    print(standard_member['이름']+'사원은 '+member_to_compare['이름']+'보다 나이가 많습니다.')\n",
    "elif standard_member['나이'] < member_to_compare['나이']:\n",
    "    print(standard_member['이름']+'사원은 '+member_to_compare['이름']+'보다 나이가 적습니다.')\n",
    "else:\n",
    "    print(standard_member['이름']+'사원은 '+member_to_compare['이름']+'과 나이가 같습니다.')"
   ]
  },
  {
   "cell_type": "code",
   "execution_count": 39,
   "id": "584dfa24",
   "metadata": {},
   "outputs": [
    {
     "name": "stdout",
     "output_type": "stream",
     "text": [
      "안녕하세요, 저는 파릇파릇한 나무팀의 김이팝입니다.\n",
      "안녕하세요, 저는 파릇파릇한 나무팀의 김단풍입니다.\n",
      "안녕하세요, 저는 파릇파릇한 나무팀의 이버들입니다.\n",
      "안녕하세요, 저는 파릇파릇한 나무팀의 박바오밥입니다.\n",
      "안녕하세요, 저는 파릇파릇한 나무팀의 MayBlossom입니다.\n",
      "안녕하세요, 저는 파릇파릇한 꽃팀의 김샤프란입니다.\n",
      "안녕하세요, 저는 파릇파릇한 꽃팀의 김튤립입니다.\n",
      "안녕하세요, 저는 파릇파릇한 꽃팀의 박수선화입니다.\n",
      "안녕하세요, 저는 파릇파릇한 꽃팀의 박앵초입니다.\n",
      "안녕하세요, 저는 파릇파릇한 꽃팀의 SharonRose입니다.\n"
     ]
    }
   ],
   "source": [
    "for i in members:\n",
    "    if i['소속'] == '나무팀':\n",
    "        print('안녕하세요, 저는 파릇파릇한 나무팀의 ' + i['성'] + i['이름'] + '입니다.')\n",
    "    elif i['소속'] == '꽃팀':\n",
    "        print('안녕하세요, 저는 파릇파릇한 꽃팀의 ' + i['성'] + i['이름'] + '입니다.')"
   ]
  },
  {
   "cell_type": "code",
   "execution_count": 41,
   "id": "1a526c82",
   "metadata": {},
   "outputs": [
    {
     "name": "stdout",
     "output_type": "stream",
     "text": [
      "안녕하세요, 저는 파릇파릇한 나무팀의 김이팝입니다.\n",
      "안녕하세요, 저는 파릇파릇한 나무팀의 김단풍입니다.\n",
      "안녕하세요, 저는 파릇파릇한 나무팀의 이버들입니다.\n",
      "안녕하세요, 저는 파릇파릇한 나무팀의 박바오밥입니다.\n",
      "안녕하세요, 저는 파릇파릇한 나무팀의 Blossom May입니다.\n",
      "안녕하세요, 저는 파릇파릇한 꽃팀의 김샤프란입니다.\n",
      "안녕하세요, 저는 파릇파릇한 꽃팀의 김튤립입니다.\n",
      "안녕하세요, 저는 파릇파릇한 꽃팀의 박수선화입니다.\n",
      "안녕하세요, 저는 파릇파릇한 꽃팀의 박앵초입니다.\n",
      "안녕하세요, 저는 파릇파릇한 꽃팀의 Rose Sharon입니다.\n"
     ]
    }
   ],
   "source": [
    "for i in members:\n",
    "    if i['소속'] == '나무팀':\n",
    "        if i['국적'] == '대한민국':\n",
    "            print('안녕하세요, 저는 파릇파릇한 나무팀의 ' + i['성'] + i['이름'] + '입니다.')\n",
    "        else: \n",
    "            print('안녕하세요, 저는 파릇파릇한 나무팀의 ' + i['이름'] + ' ' + i['성'] + '입니다.')\n",
    "    elif i['소속'] == '꽃팀':\n",
    "        if i['국적'] == '대한민국':\n",
    "            print('안녕하세요, 저는 파릇파릇한 꽃팀의 ' + i['성'] + i['이름'] + '입니다.')\n",
    "        else: \n",
    "            print('안녕하세요, 저는 파릇파릇한 꽃팀의 ' + i['이름'] + ' ' + i['성'] + '입니다.')"
   ]
  },
  {
   "cell_type": "code",
   "execution_count": 42,
   "id": "052c4aa6",
   "metadata": {},
   "outputs": [],
   "source": [
    "members = [\n",
    "    {\n",
    "        '성': '김',\n",
    "        '이름': '이팝',\n",
    "        '소속': '나무팀',\n",
    "        '국적': '대한민국',\n",
    "        '나이': 40,\n",
    "    },\n",
    "    {\n",
    "        '성': '김',\n",
    "        '이름': '단풍',\n",
    "        '소속': '나무팀',\n",
    "        '국적': '대한민국',\n",
    "        '나이': 29,\n",
    "    },\n",
    "    {\n",
    "        '성': '이',\n",
    "        '이름': '버들',\n",
    "        '소속': '나무팀',\n",
    "        '국적': '대한민국',\n",
    "        '나이': 34,\n",
    "    },\n",
    "    {\n",
    "        '성': '박',\n",
    "        '이름': '바오밥',\n",
    "        '소속': '나무팀',\n",
    "        '국적': '대한민국',\n",
    "        '나이': 27,\n",
    "    },\n",
    "    {\n",
    "        '성': 'May',\n",
    "        '이름': 'Blossom',\n",
    "        '소속': '나무팀',\n",
    "        '국적': '미국',\n",
    "        '나이': 28,\n",
    "    },\n",
    "    {\n",
    "        '성': '김',\n",
    "        '이름': '샤프란',\n",
    "        '소속': '꽃팀',\n",
    "        '국적': '대한민국',\n",
    "        '나이': 42,\n",
    "    },\n",
    "    {\n",
    "        '성': '김',\n",
    "        '이름': '튤립',\n",
    "        '소속': '꽃팀',\n",
    "        '국적': '대한민국',\n",
    "        '나이': 37,\n",
    "    },\n",
    "    {\n",
    "        '성': '박',\n",
    "        '이름': '수선화',\n",
    "        '소속': '꽃팀',\n",
    "        '국적': '대한민국',\n",
    "        '나이': 33,\n",
    "    },\n",
    "    {\n",
    "        '성': '박',\n",
    "        '이름': '앵초',\n",
    "        '소속': '꽃팀',\n",
    "        '국적': '대한민국',\n",
    "        '나이': 28,\n",
    "    },\n",
    "    {\n",
    "        '성': 'Sharon',\n",
    "        '이름': 'Rose',\n",
    "        '소속': '꽃팀',\n",
    "        '국적': '미국',\n",
    "        '나이': 23,\n",
    "    },\n",
    "    {\n",
    "        '성': '최',\n",
    "        '이름': '매실',\n",
    "        '소속': '열매팀',\n",
    "        '국적': '대한민국',\n",
    "        '나이': 50,\n",
    "    },\n",
    "    {\n",
    "        '성': '이',\n",
    "        '이름': '자두',\n",
    "        '소속': '열매팀',\n",
    "        '국적': '대한민국',\n",
    "        '나이': 33,\n",
    "    },\n",
    "    {\n",
    "        '성': '임',\n",
    "        '이름': '키위',\n",
    "        '소속': '열매팀',\n",
    "        '국적': '대한민국',\n",
    "        '나이': 26,\n",
    "    },\n",
    "]"
   ]
  },
  {
   "cell_type": "code",
   "execution_count": 55,
   "id": "b768bc73",
   "metadata": {},
   "outputs": [],
   "source": [
    "team_prefix={'나무팀':'파릇파릇한', '꽃팀':'향긋한', '열매팀':'달콤한'}"
   ]
  },
  {
   "cell_type": "code",
   "execution_count": 56,
   "id": "136b8222",
   "metadata": {},
   "outputs": [
    {
     "name": "stdout",
     "output_type": "stream",
     "text": [
      "안녕하세요, 저는파릇파릇한 나무팀의 김이팝입니다.\n",
      "안녕하세요, 저는파릇파릇한 나무팀의 김단풍입니다.\n",
      "안녕하세요, 저는파릇파릇한 나무팀의 이버들입니다.\n",
      "안녕하세요, 저는파릇파릇한 나무팀의 박바오밥입니다.\n",
      "안녕하세요, 저는파릇파릇한 나무팀의 Blossom May입니다.\n",
      "안녕하세요, 저는향긋한 꽃팀의 김샤프란입니다.\n",
      "안녕하세요, 저는향긋한 꽃팀의 김튤립입니다.\n",
      "안녕하세요, 저는향긋한 꽃팀의 박수선화입니다.\n",
      "안녕하세요, 저는향긋한 꽃팀의 박앵초입니다.\n",
      "안녕하세요, 저는향긋한 꽃팀의 Rose Sharon입니다.\n",
      "안녕하세요, 저는달콤한 열매팀의 최매실입니다.\n",
      "안녕하세요, 저는달콤한 열매팀의 이자두입니다.\n",
      "안녕하세요, 저는달콤한 열매팀의 임키위입니다.\n"
     ]
    }
   ],
   "source": [
    "for i in members:\n",
    "    for k in team_prefix:\n",
    "        if i['소속'] == k:\n",
    "            if i['국적'] == '대한민국':\n",
    "                print('안녕하세요, 저는' + team_prefix[k] + ' ' + k + '의 ' + i['성'] + i['이름'] + '입니다.')\n",
    "            else: \n",
    "                print('안녕하세요, 저는' + team_prefix[k] + ' ' + k + '의 ' + i['이름'] + ' ' + i['성'] + '입니다.')"
   ]
  },
  {
   "cell_type": "code",
   "execution_count": 57,
   "id": "59634e9f",
   "metadata": {},
   "outputs": [
    {
     "name": "stdout",
     "output_type": "stream",
     "text": [
      "The answer is... NO\n"
     ]
    }
   ],
   "source": [
    "def is_error_code(message, answer=\"NO\"):\n",
    "\treturn message + answer\n",
    "\n",
    "print(is_error_code(message=\"The answer is... \", ))"
   ]
  },
  {
   "cell_type": "code",
   "execution_count": null,
   "id": "acbb3ed3",
   "metadata": {},
   "outputs": [],
   "source": []
  }
 ],
 "metadata": {
  "kernelspec": {
   "display_name": "py3.8",
   "language": "python",
   "name": "py3.8"
  },
  "language_info": {
   "codemirror_mode": {
    "name": "ipython",
    "version": 3
   },
   "file_extension": ".py",
   "mimetype": "text/x-python",
   "name": "python",
   "nbconvert_exporter": "python",
   "pygments_lexer": "ipython3",
   "version": "3.8.15"
  }
 },
 "nbformat": 4,
 "nbformat_minor": 5
}
