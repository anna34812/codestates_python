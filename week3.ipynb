{
 "cells": [
  {
   "cell_type": "code",
   "execution_count": 15,
   "id": "e2fbc995",
   "metadata": {},
   "outputs": [],
   "source": [
    "members = [\n",
    "    {\n",
    "        '성': '김',\n",
    "        '이름': '이팝',\n",
    "        '소속': '나무팀',\n",
    "        '국적': '대한민국',\n",
    "        '나이': 40,\n",
    "    },\n",
    "    {\n",
    "        '성': '김',\n",
    "        '이름': '단풍',\n",
    "        '소속': '나무팀',\n",
    "        '국적': '대한민국',\n",
    "        '나이': 29,\n",
    "    },\n",
    "    {\n",
    "        '성': '이',\n",
    "        '이름': '버들',\n",
    "        '소속': '나무팀',\n",
    "        '국적': '대한민국',\n",
    "        '나이': 34,\n",
    "    },\n",
    "    {\n",
    "        '성': '박',\n",
    "        '이름': '바오밥',\n",
    "        '소속': '나무팀',\n",
    "        '국적': '대한민국',\n",
    "        '나이': 27,\n",
    "    },\n",
    "    {\n",
    "        '성': 'May',\n",
    "        '이름': 'Blossom',\n",
    "        '소속': '나무팀',\n",
    "        '국적': '미국',\n",
    "        '나이': 28,\n",
    "    },\n",
    "    {\n",
    "        '성': '김',\n",
    "        '이름': '샤프란',\n",
    "        '소속': '꽃팀',\n",
    "        '국적': '대한민국',\n",
    "        '나이': 42,\n",
    "    },\n",
    "    {\n",
    "        '성': '김',\n",
    "        '이름': '튤립',\n",
    "        '소속': '꽃팀',\n",
    "        '국적': '대한민국',\n",
    "        '나이': 37,\n",
    "    },\n",
    "    {\n",
    "        '성': '박',\n",
    "        '이름': '수선화',\n",
    "        '소속': '꽃팀',\n",
    "        '국적': '대한민국',\n",
    "        '나이': 33,\n",
    "    },\n",
    "    {\n",
    "        '성': '박',\n",
    "        '이름': '앵초',\n",
    "        '소속': '꽃팀',\n",
    "        '국적': '대한민국',\n",
    "        '나이': 28,\n",
    "    },\n",
    "    {\n",
    "        '성': 'Sharon',\n",
    "        '이름': 'Rose',\n",
    "        '소속': '꽃팀',\n",
    "        '국적': '미국',\n",
    "        '나이': 23,\n",
    "    },\n",
    "    {\n",
    "        '성': '최',\n",
    "        '이름': '매실',\n",
    "        '소속': '열매팀',\n",
    "        '국적': '대한민국',\n",
    "        '나이': 50,\n",
    "    },\n",
    "    {\n",
    "        '성': '이',\n",
    "        '이름': '자두',\n",
    "        '소속': '열매팀',\n",
    "        '국적': '대한민국',\n",
    "        '나이': 33,\n",
    "    },\n",
    "    {\n",
    "        '성': '임',\n",
    "        '이름': '키위',\n",
    "        '소속': '열매팀',\n",
    "        '국적': '대한민국',\n",
    "        '나이': 26,\n",
    "    },\n",
    "]\n",
    "\n",
    "prices = [300, 500, 350, 110, 280]"
   ]
  },
  {
   "cell_type": "code",
   "execution_count": 16,
   "id": "ede64dd0",
   "metadata": {},
   "outputs": [
    {
     "name": "stdout",
     "output_type": "stream",
     "text": [
      "오늘 점심 뭐먹지? 문자열의 길이는 10입니다.\n"
     ]
    }
   ],
   "source": [
    "my_string = \"오늘 점심 뭐먹지?\"\n",
    "print(f'{my_string} 문자열의 길이는 {len(my_string)}입니다.')"
   ]
  },
  {
   "cell_type": "code",
   "execution_count": 19,
   "id": "44b69b75",
   "metadata": {},
   "outputs": [
    {
     "name": "stdout",
     "output_type": "stream",
     "text": [
      "사원들 이름의 총 길이는 36입니다.\n"
     ]
    }
   ],
   "source": [
    "total_len_name = 0\n",
    "\n",
    "for member in members:\n",
    "    total_len_name += len(member['이름'])\n",
    "print(f'사원들 이름의 총 길이는 {total_len_name}입니다.')\n",
    "    \n",
    "   "
   ]
  },
  {
   "cell_type": "code",
   "execution_count": 22,
   "id": "94eba065",
   "metadata": {},
   "outputs": [
    {
     "name": "stdout",
     "output_type": "stream",
     "text": [
      "상품의 총 가격은 1540입니다\n"
     ]
    }
   ],
   "source": [
    "print(f'상품의 총 가격은 {sum(prices)}입니다')"
   ]
  },
  {
   "cell_type": "code",
   "execution_count": 24,
   "id": "41c90930",
   "metadata": {},
   "outputs": [
    {
     "name": "stdout",
     "output_type": "stream",
     "text": [
      "상품 중 가장 높은 가격은 500입니다.\n"
     ]
    }
   ],
   "source": [
    "print(f'상품 중 가장 높은 가격은 {max(prices)}입니다.')"
   ]
  },
  {
   "cell_type": "code",
   "execution_count": 25,
   "id": "1cfed9c6",
   "metadata": {},
   "outputs": [
    {
     "name": "stdout",
     "output_type": "stream",
     "text": [
      "상품 중 가장 낮은 가격은 110입니다.\n"
     ]
    }
   ],
   "source": [
    "print(f'상품 중 가장 낮은 가격은 {min(prices)}입니다.')"
   ]
  },
  {
   "cell_type": "code",
   "execution_count": null,
   "id": "5df03438",
   "metadata": {},
   "outputs": [],
   "source": []
  },
  {
   "cell_type": "code",
   "execution_count": null,
   "id": "32d2ed45",
   "metadata": {},
   "outputs": [],
   "source": []
  },
  {
   "cell_type": "code",
   "execution_count": null,
   "id": "5a78dbdc",
   "metadata": {},
   "outputs": [],
   "source": []
  }
 ],
 "metadata": {
  "kernelspec": {
   "display_name": "py3.8",
   "language": "python",
   "name": "py3.8"
  },
  "language_info": {
   "codemirror_mode": {
    "name": "ipython",
    "version": 3
   },
   "file_extension": ".py",
   "mimetype": "text/x-python",
   "name": "python",
   "nbconvert_exporter": "python",
   "pygments_lexer": "ipython3",
   "version": "3.8.15"
  }
 },
 "nbformat": 4,
 "nbformat_minor": 5
}
